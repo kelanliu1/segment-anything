{
  "nbformat": 4,
  "nbformat_minor": 0,
  "metadata": {
    "colab": {
      "provenance": [],
      "authorship_tag": "ABX9TyMAP+Dtn/SzgKMNlwaHMOpR",
      "include_colab_link": true
    },
    "kernelspec": {
      "name": "python3",
      "display_name": "Python 3"
    },
    "language_info": {
      "name": "python"
    },
    "accelerator": "GPU",
    "gpuClass": "standard"
  },
  "cells": [
    {
      "cell_type": "markdown",
      "metadata": {
        "id": "view-in-github",
        "colab_type": "text"
      },
      "source": [
        "<a href=\"https://colab.research.google.com/github/kelanliu1/segment-anything/blob/main/SAM.ipynb\" target=\"_parent\"><img src=\"https://colab.research.google.com/assets/colab-badge.svg\" alt=\"Open In Colab\"/></a>"
      ]
    },
    {
      "cell_type": "code",
      "execution_count": null,
      "metadata": {
        "id": "Egd6m5oPKpVG"
      },
      "outputs": [],
      "source": [
        "!wget https://dl.fbaipublicfiles.com/segment_anything/sam_vit_h_4b8939.pth"
      ]
    },
    {
      "cell_type": "code",
      "source": [
        "!pip install torch torchvision\n",
        "!pip install opencv-python matplotlib\n",
        "!pip install 'git+https://github.com/facebookresearch/segment-anything.git'"
      ],
      "metadata": {
        "id": "Y-Zuw58VMUE1"
      },
      "execution_count": null,
      "outputs": []
    },
    {
      "cell_type": "code",
      "source": [
        "import torch\n",
        "import torchvision\n",
        "import cv2\n",
        "import numpy as np\n",
        "import matplotlib.pyplot as plt\n",
        "from segment_anything import sam_model_registry, SamAutomaticMaskGenerator, SamPredictor\n",
        "\n",
        "# Initialize YOLOv5\n",
        "model = torch.hub.load(\"ultralytics/yolov5\", \"yolov5s\", pretrained=True).to(\"cuda\")"
      ],
      "metadata": {
        "id": "lV3w-HPoMwin"
      },
      "execution_count": null,
      "outputs": []
    },
    {
      "cell_type": "code",
      "source": [
        "# Initialize Segment-Anything\n",
        "sam_checkpoint = \"sam_vit_h_4b8939.pth\"\n",
        "model_type = \"vit_h\"\n",
        "device = \"cuda\"\n",
        "sam = sam_model_registry[model_type](checkpoint=sam_checkpoint)\n",
        "sam.to(device=device)\n",
        "mask_generator_ = SamAutomaticMaskGenerator(\n",
        "    model=sam,\n",
        "    points_per_side=32,\n",
        "    pred_iou_thresh=0.9,\n",
        "    stability_score_thresh=0.96,\n",
        "    crop_n_layers=1,\n",
        "    crop_n_points_downscale_factor=2,\n",
        "    min_mask_region_area=100,\n",
        ")"
      ],
      "metadata": {
        "id": "BxrMDEQXOgyQ"
      },
      "execution_count": null,
      "outputs": []
    },
    {
      "cell_type": "code",
      "source": [
        "# User input class to blur\n",
        "class_to_blur = \"person\"\n",
        "\n",
        "# Load an image\n",
        "input_image = \"trifecta.jpg\"\n",
        "image = cv2.imread(input_image)\n",
        "image_rgb = cv2.cvtColor(image, cv2.COLOR_BGR2RGB)\n",
        "\n",
        "# Make a copy of the original image\n",
        "original_image = image_rgb.copy()\n",
        "\n",
        "# Perform YOLOv5 object detection\n",
        "detections = model(image_rgb)\n",
        "detections_list = detections.xyxy[0].tolist()\n",
        "\n",
        "# Process detections\n",
        "for det in detections_list:\n",
        "    x1, y1, x2, y2, conf, cls = det\n",
        "    class_name = model.names[int(cls)]\n",
        "\n",
        "    if class_name == class_to_blur:\n",
        "        x1, y1, x2, y2 = int(x1), int(y1), int(x2), int(y2)\n",
        "        cropped_frame = image_rgb[y1:y2, x1:x2].copy()\n",
        "        masks = mask_generator_.generate(cropped_frame)\n",
        "        for mask in masks:\n",
        "            segmentation = mask[\"segmentation\"]\n",
        "            blurred_region = cv2.GaussianBlur(cropped_frame, (99, 99), 30)\n",
        "            cropped_frame = np.where(segmentation[..., None], blurred_region, cropped_frame)\n",
        "        image_rgb[y1:y2, x1:x2] = cropped_frame\n",
        "\n",
        "\n",
        "# Save the blurred image\n",
        "output_image_path = \"output_image.jpg\"\n",
        "output_image = cv2.cvtColor(image_rgb, cv2.COLOR_RGB2BGR)\n",
        "cv2.imwrite(output_image_path, output_image)\n"
      ],
      "metadata": {
        "colab": {
          "base_uri": "https://localhost:8080/"
        },
        "id": "Og9g8O5KefTb",
        "outputId": "9d613718-3fc8-4036-a96a-94617801246a"
      },
      "execution_count": null,
      "outputs": [
        {
          "output_type": "execute_result",
          "data": {
            "text/plain": [
              "True"
            ]
          },
          "metadata": {},
          "execution_count": 7
        }
      ]
    },
    {
      "cell_type": "markdown",
      "source": [
        "Test:"
      ],
      "metadata": {
        "id": "PPec7eryJAR7"
      }
    },
    {
      "cell_type": "code",
      "source": [
        "# User input class to blur\n",
        "class_to_blur = \"person\"\n",
        "\n",
        "# Load an image\n",
        "input_image = \"trifecta.jpg\"\n",
        "image = cv2.imread(input_image)\n",
        "image_rgb = cv2.cvtColor(image, cv2.COLOR_BGR2RGB)\n",
        "\n",
        "# Make a copy of the original image\n",
        "original_image = image_rgb.copy()\n",
        "\n",
        "# Perform YOLOv5 object detection\n",
        "detections = model(image_rgb)\n",
        "detections_list = detections.xyxy[0].tolist()\n",
        "\n",
        "# Process detections\n",
        "for det in detections_list:\n",
        "    x1, y1, x2, y2, conf, cls = det\n",
        "    class_name = model.names[int(cls)]\n",
        "\n",
        "    if class_name == class_to_blur:\n",
        "        x1, y1, x2, y2 = int(x1), int(y1), int(x2), int(y2)\n",
        "        cropped_frame = image_rgb[y1:y2, x1:x2].copy()\n",
        "        masks = mask_generator_.generate(cropped_frame)\n",
        "        \n",
        "        # Find the largest mask\n",
        "        largest_mask = None\n",
        "        largest_mask_area = 0\n",
        "        for mask in masks:\n",
        "            segmentation = mask[\"segmentation\"]\n",
        "            mask_area = np.sum(segmentation)\n",
        "            if mask_area > largest_mask_area:\n",
        "                largest_mask_area = mask_area\n",
        "                largest_mask = mask\n",
        "        \n",
        "        if largest_mask is not None:\n",
        "            # Apply blur only on the largest mask\n",
        "            segmentation = largest_mask[\"segmentation\"]\n",
        "            blurred_region = cv2.GaussianBlur(cropped_frame, (99, 99), 30)\n",
        "            cropped_frame = np.where(segmentation[..., None], blurred_region, cropped_frame)\n",
        "            image_rgb[y1:y2, x1:x2] = cropped_frame\n",
        "\n",
        "# Save the blurred image\n",
        "output_image_path = \"output_image.jpg\"\n",
        "output_image = cv2.cvtColor(image_rgb, cv2.COLOR_RGB2BGR)\n",
        "cv2.imwrite(output_image_path, output_image)"
      ],
      "metadata": {
        "id": "HSeBFL-SI9SJ"
      },
      "execution_count": null,
      "outputs": []
    }
  ]
}